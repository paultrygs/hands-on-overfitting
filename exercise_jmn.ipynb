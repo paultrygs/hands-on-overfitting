{
 "cells": [
  {
   "cell_type": "markdown",
   "metadata": {},
   "source": [
    "## Exercise: Digit Classification\n",
    "\n",
    "In this exercise, you will work with a dataset that includes 8x8 greyscale images. Each image in the dataset represents a single digit ranging from 0-9, and contains an integer label indicating the depicted digit.\n",
    "\n",
    "\n",
    "Your main task is to experiment with different models for recognizing or predicting digits in 8x8 greyscale images. Your task here is to classify the images based on the digit depicted in each image.\n",
    "\n",
    "The main goal of is to answer three questions:\n",
    "\n",
    "1. Find examples of:\n",
    "    - Underfitting\n",
    "    - Overfitting\n",
    "\n",
    "2. In your personal opinion, what do you think is the best possible model to train in this case? Why do you think it is the best model?\n",
    "\n",
    "3. How large or complex do you think the model needs to be to get the best results?\n",
    "\n",
    "**Important Information:**\n",
    "\n",
    "To answer this exercise, you can either:\n",
    "\n",
    "1. Use your favorite Machine Learning library.\n",
    "2. Use the code available in this repository.\n",
    "\n",
    "Please keep reading for:\n",
    "\n",
    "- Instructions to get the dataset\n",
    "- Examples of how to use code available in this repository."
   ]
  },
  {
   "cell_type": "code",
   "execution_count": 6,
   "metadata": {},
   "outputs": [],
   "source": [
    "\"\"\"\n",
    "Instructions\n",
    "\n",
    "The following code will generate four NumPy arrays:\n",
    "- X_train: images that will be used for training models.\n",
    "- X_test: images that will be used for testing and evaluating the trained models.\n",
    "- y_train: correct labels/digits for the training images, to be used for training models.\n",
    "- y_test: correct labels/digits for the testing images, to be used for evaluating the trained models.\n",
    "\n",
    "Important: You are only allowed to use the training data (X_train and y_train) when training models.\n",
    "\"\"\"\n",
    "\n",
    "from src.image_data import get_image_data\n",
    "\n",
    "# The data:\n",
    "X_train, X_test, y_train, y_test = get_image_data()\n",
    "\n"
   ]
  },
  {
   "cell_type": "markdown",
   "metadata": {},
   "source": [
    "## Plot an Image Alongside a Label"
   ]
  },
  {
   "cell_type": "code",
   "execution_count": 7,
   "metadata": {},
   "outputs": [
    {
     "data": {
      "image/png": "[encoded data removed]",
      "text/plain": [
       "<Figure size 200x150 with 1 Axes>"
      ]
     },
     "metadata": {},
     "output_type": "display_data"
    }
   ],
   "source": [
    "from src.image_data import get_image_data, plot_image\n",
    "\n",
    "# Get the training data and test data\n",
    "X_train, X_test, y_train, y_test = get_image_data()\n",
    "\n",
    "\n",
    "# Plot the first training image X_train[0], together with its correct label y_train[0]:\n",
    "plot_image(image=X_train[0], label=y_train[0])\n",
    "\n"
   ]
  },
  {
   "cell_type": "markdown",
   "metadata": {},
   "source": [
    "## Models in This Repository\n",
    "\n",
    "This repository contains two models in the `src.classifiers` directory:\n",
    "\n",
    "1. `PolynomialClassifier`: \n",
    "    - Separates space into different regions using polynomials.\n",
    "    - Classifies points based on which regions they belong to.\n",
    "\n",
    "A low-dimensional illustration of this method can be seen below:\n",
    "\n",
    "![Polynomial](./docs/svm.svg)\n",
    "\n",
    "2. `NeuralNetworkClassifier`: \n",
    "    - A neural network that is inspired by how the human brain works: neurons activate other neurons.\n",
    "    - Each connection/line in a neural network has an associated weight that determines how strong the activation is.\n",
    "\n",
    "The following illustration shows a single hidden-layer neural network that maps input arrays of length 3 to output arrays of length 2:\n",
    "\n",
    "![Neural network](./docs/nn.svg)\n",
    "\n",
    "**Key Takeaway:**\n",
    "\n",
    "1. `PolynomialClassifier`: The degree of polynomials used in this model makes it larger or more complex.\n",
    "2. `NeuralNetworkClassifier`: The size and number of its hidden layers make it larger or more complex."
   ]
  },
  {
   "cell_type": "markdown",
   "metadata": {},
   "source": [
    "## Train a Model"
   ]
  },
  {
   "cell_type": "code",
   "execution_count": 1,
   "metadata": {},
   "outputs": [],
   "source": [
    "from src.image_data import get_image_data\n",
    "from src.classifiers import PolynomialClassifier, NeuralNetworkClassifier\n",
    "\n",
    "# Get the training data and test data\n",
    "X_train, X_test, y_train, y_test = get_image_data()\n",
    "\n",
    "# Instantiate an untrained polynomial classifier of degree 1\n",
    "polynomial_classifier = PolynomialClassifier(\n",
    "    degree=8,\n",
    "    regularization=1  # optional parameter to adjust the regularization strength\n",
    ")\n",
    "\n",
    "# Train the polynomial classifier\n",
    "polynomial_classifier.train(X_train, y_train)\n",
    "\n",
    "# Instantiate an untrained neural network classifier with a single hidden layer with 5 neurons:\n",
    "neural_network_classifier_1 = NeuralNetworkClassifier(\n",
    "    hidden_layer_sizes=(10, ),\n",
    "    regularization=0.0001  # optional parameter to adjust the regularization strength\n",
    ")\n",
    "\n",
    "# Train the neural network\n",
    "neural_network_classifier_1.train(X_train, y_train)\n",
    "\n",
    "# Instantiate an untrained neural network classifier with two hidden layers with 5 and 10 neurons:\n",
    "neural_network_classifier_2 = NeuralNetworkClassifier(\n",
    "    hidden_layer_sizes=(50, 100),\n",
    "    regularization=0.0001  # optional parameter to adjust the regularization strength\n",
    ")\n",
    "\n",
    "# Train the multi hidden layer neural network\n",
    "neural_network_classifier_2.train(X_train, y_train)\n",
    "\n",
    "# Tip: Instantiate a new model every time you would like to train\n",
    "\n"
   ]
  },
  {
   "cell_type": "code",
   "execution_count": 8,
   "metadata": {},
   "outputs": [
    {
     "data": {
      "image/png": "[encoded data removed]",
      "text/plain": [
       "<Figure size 200x150 with 1 Axes>"
      ]
     },
     "metadata": {},
     "output_type": "display_data"
    },
    {
     "data": {
      "image/png": "[encoded data removed]",
      "text/plain": [
       "<Figure size 200x150 with 1 Axes>"
      ]
     },
     "metadata": {},
     "output_type": "display_data"
    }
   ],
   "source": [
    "predicted_digits = neural_network_classifier_2.predict(two_images)  # Note: The input is an array of images!\n",
    "\n",
    "# Plot the two images together with the predicted digits\n",
    "plot_image(two_images[0], predicted_digits[0])\n",
    "plot_image(two_images[1], predicted_digits[1])"
   ]
  },
  {
   "cell_type": "markdown",
   "metadata": {},
   "source": [
    "## Predict Digits With a Trained Model"
   ]
  },
  {
   "cell_type": "code",
   "execution_count": 9,
   "metadata": {},
   "outputs": [
    {
     "data": {
      "image/png": "[encoded data removed]",
      "text/plain": [
       "<Figure size 200x150 with 1 Axes>"
      ]
     },
     "metadata": {},
     "output_type": "display_data"
    },
    {
     "data": {
      "image/png": "[encoded data removed]",
      "text/plain": [
       "<Figure size 200x150 with 1 Axes>"
      ]
     },
     "metadata": {},
     "output_type": "display_data"
    }
   ],
   "source": [
    "from src.image_data import get_image_data, plot_image\n",
    "from src.classifiers import PolynomialClassifier\n",
    "\n",
    "\n",
    "# Get the training data and test data\n",
    "X_train, X_test, y_train, y_test = get_image_data()\n",
    "\n",
    "# Instantiate an untrained polynomial classifier of degree 1\n",
    "polynomial_classifier = PolynomialClassifier(\n",
    "    degree=3,\n",
    "    regularization=1  # optional parameter to adjust the regularization strength\n",
    ")\n",
    "\n",
    "# Train the polynomial classifier\n",
    "polynomial_classifier.train(X_train, y_train)\n",
    "\n",
    "# Pick two test images\n",
    "two_images = X_test[0: 2]\n",
    "\n",
    "# Use the model to predict the digits in both images\n",
    "predicted_digits = polynomial_classifier.predict(two_images)  # Note: The input is an array of images!\n",
    "\n",
    "# Plot the two images together with the predicted digits\n",
    "plot_image(two_images[0], predicted_digits[0])\n",
    "plot_image(two_images[1], predicted_digits[1])\n",
    "\n"
   ]
  },
  {
   "cell_type": "markdown",
   "metadata": {},
   "source": [
    "## Metrics for Evaluating a Trained Model"
   ]
  },
  {
   "cell_type": "code",
   "execution_count": 10,
   "metadata": {},
   "outputs": [
    {
     "name": "stdout",
     "output_type": "stream",
     "text": [
      "Percentage of correct digits: 0.8713692946058091\n",
      "Mean error when predicting digits: 0.7858234303796804\n"
     ]
    }
   ],
   "source": [
    "\n",
    "from src.image_data import get_image_data\n",
    "from src.classifiers import PolynomialClassifier\n",
    "\n",
    "\n",
    "# Get the training data and test data\n",
    "X_train, X_test, y_train, y_test = get_image_data()\n",
    "\n",
    "# Instantiate an untrained polynomial classifier of degree 1\n",
    "polynomial_classifier = PolynomialClassifier(\n",
    "    degree=5,\n",
    "    regularization=1  # optional parameter to adjust the regularization strength\n",
    ")\n",
    "\n",
    "# Train the polynomial classifier\n",
    "polynomial_classifier.train(X_train, y_train)\n",
    "\n",
    "\n",
    "# Get percentage (0 worst, 1 best) of correct predictions when applying the trained model to all test images\n",
    "accuracy = polynomial_classifier.accuracy(X_test, y_test)  # Note: y_test contains the correct digits\n",
    "print(f\"Percentage of correct digits: {accuracy}\")\n",
    "\n",
    "# Get a mean error measure (want to be as close to 0 as possible) when applying the trained model to all test images:\n",
    "error = polynomial_classifier.error(X_test, y_test)\n",
    "print(f\"Mean error when predicting digits: {error}\")\n",
    "\n",
    "# Tip: It can be worthwhile to compare accuracy and error for the test and training set.\n",
    "\n"
   ]
  },
  {
   "cell_type": "markdown",
   "metadata": {},
   "source": [
    "### Plot a NumPy Array"
   ]
  },
  {
   "cell_type": "code",
   "execution_count": 42,
   "metadata": {},
   "outputs": [
    {
     "data": {
      "text/plain": [
       "range(1, 10)"
      ]
     },
     "execution_count": 42,
     "metadata": {},
     "output_type": "execute_result"
    }
   ],
   "source": [
    "\n",
    "degrees"
   ]
  },
  {
   "cell_type": "code",
   "execution_count": null,
   "metadata": {},
   "outputs": [],
   "source": [
    "import numpy as np\n",
    "import matplotlib.pyplot as plt\n",
    "from sklearn.metrics import mean_absolute_error\n",
    "\n",
    "\n",
    "degrees=range(1, 25) \n",
    "train_errors = []\n",
    "test_errors = []\n",
    "for degree in degrees:\n",
    "    # We initialize the polynomial model\n",
    "    model = NeuralNetworkClassifier(\n",
    "    hidden_layer_sizes=(np.repeat(25,degree)),\n",
    "    regularization=0.9  # optional parameter to adjust the regularization strength\n",
    ")\n",
    "\n",
    "    # We train the model on the original test data\n",
    "    model.train(X_train, y_train)\n",
    "\n",
    "    # We calculate predicted y values from the original training data\n",
    "    y_predicted_train = model.predict(X_train)\n",
    "\n",
    "    # We calculate predicted y values from the new test data\n",
    "    y_predicted_test = model.predict(X_test)\n",
    "\n",
    "    # We append the train error\n",
    "    train_errors.append(mean_absolute_error(y_train, y_predicted_train))\n",
    "\n",
    "    # We append the test error\n",
    "    test_errors.append(mean_absolute_error(y_test, y_predicted_test))\n",
    "\n",
    "plt.plot(degrees, train_errors, color=\"blue\", label=\"Train error\")\n",
    "plt.plot(degrees, test_errors, color=\"red\", label=\"Test error\")\n",
    "plt.xlabel(\"Degree\")\n",
    "plt.ylabel(\"Error\")\n",
    "plt.legend(loc=\"best\")\n",
    "plt.show()\n"
   ]
  },
  {
   "cell_type": "code",
   "execution_count": 6,
   "metadata": {},
   "outputs": [
    {
     "data": {
      "image/png": "[encoded data removed]",
      "text/plain": [
       "<Figure size 640x480 with 1 Axes>"
      ]
     },
     "metadata": {},
     "output_type": "display_data"
    }
   ],
   "source": [
    "import numpy as np\n",
    "import matplotlib.pyplot as plt\n",
    "\n",
    "# An example array\n",
    "array = np.array([1, 3, 4, 7, 8, 2])\n",
    "\n",
    "# Plot the array\n",
    "plt.plot(array, color=\"blue\", label=\"Example array\")  # Plot the array with a blue graph, named Example array\n",
    "plt.xlabel(\"index\")  # The name of the horizontal axis\n",
    "plt.ylabel(\"value\")  # The name of the vertical axis\n",
    "plt.legend(loc=\"best\")  # Place the label/name in a convenient location\n",
    "plt.show()  # Show the plot\n",
    "\n",
    "# Tip: It is possible to plot metrics from different models\n",
    "\n"
   ]
  }
 ],
 "metadata": {
  "kernelspec": {
   "display_name": "Python 3 (ipykernel)",
   "language": "python",
   "name": "python3"
  },
  "language_info": {
   "codemirror_mode": {
    "name": "ipython",
    "version": 3
   },
   "file_extension": ".py",
   "mimetype": "text/x-python",
   "name": "python",
   "nbconvert_exporter": "python",
   "pygments_lexer": "ipython3",
   "version": "3.11.6"
  }
 },
 "nbformat": 4,
 "nbformat_minor": 4
}
